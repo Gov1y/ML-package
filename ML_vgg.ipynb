{
  "nbformat": 4,
  "nbformat_minor": 0,
  "metadata": {
    "colab": {
      "provenance": []
    },
    "kernelspec": {
      "name": "python3",
      "display_name": "Python 3"
    },
    "language_info": {
      "name": "python"
    },
    "accelerator": "GPU",
    "gpuClass": "standard"
  },
  "cells": [
    {
      "cell_type": "code",
      "execution_count": null,
      "metadata": {
        "id": "BGG3gPW_zCwC"
      },
      "outputs": [],
      "source": [
        "pip install kaggle\n"
      ]
    },
    {
      "cell_type": "code",
      "source": [
        "from google.colab import files\n",
        "\n",
        "files.upload()"
      ],
      "metadata": {
        "id": "u3GQlfb6zVRU"
      },
      "execution_count": null,
      "outputs": []
    },
    {
      "cell_type": "code",
      "source": [
        "!mkdir ~/.kaggle\n",
        "!cp kaggle.json ~/.kaggle/\n",
        "!chmod 600 ~/.kaggle/kaggle.json"
      ],
      "metadata": {
        "id": "zUp9ZkxzP7ai",
        "colab": {
          "base_uri": "https://localhost:8080/"
        },
        "outputId": "bc195143-a8ec-4681-90d2-4a1b62026c50"
      },
      "execution_count": null,
      "outputs": [
        {
          "output_type": "stream",
          "name": "stdout",
          "text": [
            "mkdir: cannot create directory ‘/root/.kaggle’: File exists\n"
          ]
        }
      ]
    },
    {
      "cell_type": "code",
      "source": [
        "!kaggle datasets download -d ashishjangra27/face-mask-12k-images-dataset"
      ],
      "metadata": {
        "colab": {
          "base_uri": "https://localhost:8080/"
        },
        "id": "XDD_Pm5QRD30",
        "outputId": "e8373419-5892-479b-f1fc-dfaedb80ae1d"
      },
      "execution_count": null,
      "outputs": [
        {
          "output_type": "stream",
          "name": "stdout",
          "text": [
            "face-mask-12k-images-dataset.zip: Skipping, found more recently modified local copy (use --force to force download)\n"
          ]
        }
      ]
    },
    {
      "cell_type": "code",
      "source": [
        "!unzip /content/face-mask-12k-images-dataset.zip"
      ],
      "metadata": {
        "id": "3dbBeZq6Uaj2"
      },
      "execution_count": null,
      "outputs": []
    },
    {
      "cell_type": "code",
      "source": [
        "import tensorflow as tf\n",
        "from tensorflow.keras.preprocessing.image import ImageDataGenerator"
      ],
      "metadata": {
        "id": "QXdWHl3DUkiN"
      },
      "execution_count": null,
      "outputs": []
    },
    {
      "cell_type": "code",
      "source": [
        "INPUT_SIZE = [128,128]\n",
        "BATCH = 32\n",
        "#im"
      ],
      "metadata": {
        "id": "q3z6dj52Uy8i"
      },
      "execution_count": null,
      "outputs": []
    },
    {
      "cell_type": "code",
      "source": [
        "training_datagen = ImageDataGenerator(rescale=1./255,\n",
        "                                      shear_range=0.2,\n",
        "                                      zoom_range = 0.2,\n",
        "                                      )\n",
        "\n",
        "training_data = training_datagen.flow_from_directory('/content/Face Mask Dataset/Train',\n",
        "                                                     target_size = INPUT_SIZE,\n",
        "                                                     batch_size=BATCH,\n",
        "                                                     class_mode = 'binary'\n",
        "                                                     )"
      ],
      "metadata": {
        "colab": {
          "base_uri": "https://localhost:8080/"
        },
        "id": "SU5K9h9iU7aF",
        "outputId": "68398f10-73e5-44b9-84ec-567690c6d6af"
      },
      "execution_count": null,
      "outputs": [
        {
          "output_type": "stream",
          "name": "stdout",
          "text": [
            "Found 10000 images belonging to 2 classes.\n"
          ]
        }
      ]
    },
    {
      "cell_type": "code",
      "source": [
        "test_datagen = ImageDataGenerator(rescale=1./255)\n",
        "\n",
        "test_data = training_datagen.flow_from_directory('/content/Face Mask Dataset/Test',\n",
        "                                                     target_size = INPUT_SIZE,\n",
        "                                                     batch_size=BATCH,\n",
        "                                                     class_mode = 'binary'\n",
        "                                                     )"
      ],
      "metadata": {
        "colab": {
          "base_uri": "https://localhost:8080/"
        },
        "id": "BpRubUbSU-qD",
        "outputId": "872ffe2b-7d55-4c0a-b040-ecb2a55a29f5"
      },
      "execution_count": null,
      "outputs": [
        {
          "output_type": "stream",
          "name": "stdout",
          "text": [
            "Found 992 images belonging to 2 classes.\n"
          ]
        }
      ]
    },
    {
      "cell_type": "code",
      "source": [
        "from tensorflow.keras.layers import Input, Lambda, Dense, Flatten\n",
        "from tensorflow.keras.models import Model, Sequential\n",
        "from tensorflow.keras.applications.vgg16 import VGG16\n",
        "from tensorflow.keras.applications.vgg16 import preprocess_input"
      ],
      "metadata": {
        "id": "UauIXn5PVF7Y"
      },
      "execution_count": null,
      "outputs": []
    },
    {
      "cell_type": "code",
      "source": [
        "vgg16 = VGG16(input_shape=INPUT_SIZE + [3], weights='imagenet', include_top=False)"
      ],
      "metadata": {
        "id": "P6eWqAxnVIkD"
      },
      "execution_count": null,
      "outputs": []
    },
    {
      "cell_type": "code",
      "source": [
        "for layer in vgg16.layers:\n",
        "    layer.trainable = False\n",
        "\n",
        "vgg16.summary()"
      ],
      "metadata": {
        "id": "AjUzNqkLVRui"
      },
      "execution_count": null,
      "outputs": []
    },
    {
      "cell_type": "code",
      "source": [
        "flatten = Flatten()(vgg16.output)\n",
        "dense_1 = Dense(units=500, activation='relu')(flatten)\n",
        "dense_2 = Dense(units=500, activation='relu')(dense_1)\n",
        "dense_3 = Dense(units=100, activation='relu')(dense_2)\n",
        "dense_4 = Dense(units=100, activation='relu')(dense_3)\n",
        "dense_output = Dense(units=1, activation='sigmoid')(dense_4)\n",
        "\n"
      ],
      "metadata": {
        "id": "_1EdTFoXVhdQ"
      },
      "execution_count": null,
      "outputs": []
    },
    {
      "cell_type": "code",
      "source": [
        "model = Model(inputs=vgg16.input, outputs=dense_output)\n",
        "model.summary()"
      ],
      "metadata": {
        "id": "B7y82M6XVngC"
      },
      "execution_count": null,
      "outputs": []
    },
    {
      "cell_type": "code",
      "source": [
        "model.compile(\n",
        "  loss='binary_crossentropy',\n",
        "  optimizer='adam',\n",
        "  metrics=['accuracy']\n",
        ")"
      ],
      "metadata": {
        "id": "nThA8N5HV185"
      },
      "execution_count": null,
      "outputs": []
    },
    {
      "cell_type": "code",
      "source": [
        "import matplotlib.pyplot as plt\n",
        "plt.plot(r.history['loss'], label='train loss')\n",
        "plt.plot(r.history['val_loss'], label='val loss')\n",
        "plt.legend()\n",
        "plt.show()\n",
        "plt.savefig('LossVal_loss')\n",
        "\n",
        "# plot the accuracy\n",
        "plt.plot(r.history['accuracy'], label='train acc')\n",
        "plt.plot(r.history['val_accuracy'], label='val acc')\n",
        "plt.legend()\n",
        "plt.show()\n",
        "plt.savefig('AccVal_acc')"
      ],
      "metadata": {
        "id": "sCGr_782c4o4",
        "colab": {
          "base_uri": "https://localhost:8080/",
          "height": 530
        },
        "outputId": "aed57f97-df74-4fc5-b637-e1d0958d6973"
      },
      "execution_count": null,
      "outputs": [
        {
          "output_type": "display_data",
          "data": {
            "text/plain": [
              "<Figure size 432x288 with 1 Axes>"
            ],
            "image/png": "[encoded data removed]"
          },
          "metadata": {
            "needs_background": "light"
          }
        },
        {
          "output_type": "display_data",
          "data": {
            "text/plain": [
              "<Figure size 432x288 with 1 Axes>"
            ],
            "image/png": "[encoded data removed]"
          },
          "metadata": {
            "needs_background": "light"
          }
        },
        {
          "output_type": "display_data",
          "data": {
            "text/plain": [
              "<Figure size 432x288 with 0 Axes>"
            ]
          },
          "metadata": {}
        }
      ]
    },
    {
      "cell_type": "code",
      "source": [
        "r = model.fit_generator(\n",
        "  training_data,\n",
        "  validation_data=test_data,\n",
        "  epochs=5,\n",
        "  steps_per_epoch=len(training_data),\n",
        "  validation_steps=len(test_data)\n",
        ")"
      ],
      "metadata": {
        "id": "vHxzMAVyeQkG"
      },
      "execution_count": null,
      "outputs": []
    },
    {
      "cell_type": "code",
      "source": [
        "import numpy as np\n",
        "from tensorflow.keras.preprocessing import image\n",
        "test_image = image.load_img('/content/Face Mask Dataset/Validation/WithMask/1837.png', target_size = INPUT_SIZE)\n",
        "test_image = image.img_to_array(test_image)\n",
        "test_image=test_image/255\n",
        "test_image = np.expand_dims(test_image, axis = 0)\n",
        "result = model.predict(test_image)\n",
        "result[0][0]"
      ],
      "metadata": {
        "colab": {
          "base_uri": "https://localhost:8080/"
        },
        "id": "CnblrLTmCNFx",
        "outputId": "15716d56-c218-4d1c-b952-71a984e21a9a"
      },
      "execution_count": null,
      "outputs": [
        {
          "output_type": "stream",
          "name": "stdout",
          "text": [
            "1/1 [==============================] - 0s 17ms/step\n"
          ]
        },
        {
          "output_type": "execute_result",
          "data": {
            "text/plain": [
              "1.1226332e-11"
            ]
          },
          "metadata": {},
          "execution_count": 25
        }
      ]
    },
    {
      "cell_type": "code",
      "source": [
        "if result[0][0] < 0.5:\n",
        "    print('Image classified as WithMAsk')\n",
        "else:\n",
        "    print('Image classified as Without Mask')"
      ],
      "metadata": {
        "id": "3srr-9cMCV8a"
      },
      "execution_count": null,
      "outputs": []
    },
    {
      "cell_type": "code",
      "source": [
        "model.save('face_mask_vgg16.h5')\n",
        "files.download('face_mask_vgg16.h5')"
      ],
      "metadata": {
        "id": "SwJBjxtVCX1b"
      },
      "execution_count": null,
      "outputs": []
    }
  ]
}